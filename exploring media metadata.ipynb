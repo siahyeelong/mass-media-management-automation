{
 "cells": [
  {
   "cell_type": "markdown",
   "id": "09a9a7d2",
   "metadata": {},
   "source": [
    "# Importing all data from file and saving data into a DataFrame"
   ]
  },
  {
   "cell_type": "code",
   "execution_count": 1,
   "id": "d3c66eff",
   "metadata": {},
   "outputs": [],
   "source": [
    "import os\n",
    "import json\n",
    "import pathlib\n",
    "from datetime import datetime\n",
    "import shutil\n",
    "import numpy as np\n",
    "import pandas as pd\n",
    "import seaborn as sb\n",
    "import matplotlib.pyplot as plt # we only need pyplot\n",
    "sb.set() # set the default Seaborn style for graphics"
   ]
  },
  {
   "cell_type": "code",
   "execution_count": 2,
   "id": "4cee64f8",
   "metadata": {},
   "outputs": [
    {
     "name": "stdout",
     "output_type": "stream",
     "text": [
      "Enter directory: /Volumes/YEE LONG/G Photos Backup\n"
     ]
    }
   ],
   "source": [
    "directory = input(\"Enter directory: \")"
   ]
  },
  {
   "cell_type": "code",
   "execution_count": 50,
   "id": "46a96cbc",
   "metadata": {},
   "outputs": [
    {
     "data": {
      "text/html": [
       "<div>\n",
       "<style scoped>\n",
       "    .dataframe tbody tr th:only-of-type {\n",
       "        vertical-align: middle;\n",
       "    }\n",
       "\n",
       "    .dataframe tbody tr th {\n",
       "        vertical-align: top;\n",
       "    }\n",
       "\n",
       "    .dataframe thead th {\n",
       "        text-align: right;\n",
       "    }\n",
       "</style>\n",
       "<table border=\"1\" class=\"dataframe\">\n",
       "  <thead>\n",
       "    <tr style=\"text-align: right;\">\n",
       "      <th></th>\n",
       "      <th>name</th>\n",
       "      <th>date</th>\n",
       "      <th>year</th>\n",
       "      <th>day</th>\n",
       "      <th>ext</th>\n",
       "      <th>size</th>\n",
       "    </tr>\n",
       "  </thead>\n",
       "  <tbody>\n",
       "    <tr>\n",
       "      <th>0</th>\n",
       "      <td>20211211_155929</td>\n",
       "      <td>20211211</td>\n",
       "      <td>2021</td>\n",
       "      <td>Saturday</td>\n",
       "      <td>gif</td>\n",
       "      <td>2273930</td>\n",
       "    </tr>\n",
       "    <tr>\n",
       "      <th>1</th>\n",
       "      <td>20220127_151300</td>\n",
       "      <td>20220127</td>\n",
       "      <td>2022</td>\n",
       "      <td>Thursday</td>\n",
       "      <td>jpg</td>\n",
       "      <td>1678337</td>\n",
       "    </tr>\n",
       "    <tr>\n",
       "      <th>2</th>\n",
       "      <td>20220129_112034</td>\n",
       "      <td>20220129</td>\n",
       "      <td>2022</td>\n",
       "      <td>Saturday</td>\n",
       "      <td>mp4</td>\n",
       "      <td>4454361</td>\n",
       "    </tr>\n",
       "    <tr>\n",
       "      <th>3</th>\n",
       "      <td>20220129_112037</td>\n",
       "      <td>20220129</td>\n",
       "      <td>2022</td>\n",
       "      <td>Saturday</td>\n",
       "      <td>heic</td>\n",
       "      <td>1782158</td>\n",
       "    </tr>\n",
       "    <tr>\n",
       "      <th>4</th>\n",
       "      <td>20220129_112346</td>\n",
       "      <td>20220129</td>\n",
       "      <td>2022</td>\n",
       "      <td>Saturday</td>\n",
       "      <td>mp4</td>\n",
       "      <td>3901180</td>\n",
       "    </tr>\n",
       "    <tr>\n",
       "      <th>...</th>\n",
       "      <td>...</td>\n",
       "      <td>...</td>\n",
       "      <td>...</td>\n",
       "      <td>...</td>\n",
       "      <td>...</td>\n",
       "      <td>...</td>\n",
       "    </tr>\n",
       "    <tr>\n",
       "      <th>16711</th>\n",
       "      <td>20221230_063220</td>\n",
       "      <td>20221230</td>\n",
       "      <td>2022</td>\n",
       "      <td>Friday</td>\n",
       "      <td>heic</td>\n",
       "      <td>2829434</td>\n",
       "    </tr>\n",
       "    <tr>\n",
       "      <th>16712</th>\n",
       "      <td>20221231_153807</td>\n",
       "      <td>20221231</td>\n",
       "      <td>2022</td>\n",
       "      <td>Saturday</td>\n",
       "      <td>heic</td>\n",
       "      <td>3848615</td>\n",
       "    </tr>\n",
       "    <tr>\n",
       "      <th>16713</th>\n",
       "      <td>20221231_134317</td>\n",
       "      <td>20221231</td>\n",
       "      <td>2022</td>\n",
       "      <td>Saturday</td>\n",
       "      <td>heic</td>\n",
       "      <td>1922079</td>\n",
       "    </tr>\n",
       "    <tr>\n",
       "      <th>16714</th>\n",
       "      <td>20221231_134224</td>\n",
       "      <td>20221231</td>\n",
       "      <td>2022</td>\n",
       "      <td>Saturday</td>\n",
       "      <td>heic</td>\n",
       "      <td>1801378</td>\n",
       "    </tr>\n",
       "    <tr>\n",
       "      <th>16715</th>\n",
       "      <td>20221231_134306</td>\n",
       "      <td>20221231</td>\n",
       "      <td>2022</td>\n",
       "      <td>Saturday</td>\n",
       "      <td>heic</td>\n",
       "      <td>1501025</td>\n",
       "    </tr>\n",
       "  </tbody>\n",
       "</table>\n",
       "<p>16716 rows × 6 columns</p>\n",
       "</div>"
      ],
      "text/plain": [
       "                  name      date  year       day   ext     size\n",
       "0      20211211_155929  20211211  2021  Saturday   gif  2273930\n",
       "1      20220127_151300  20220127  2022  Thursday   jpg  1678337\n",
       "2      20220129_112034  20220129  2022  Saturday   mp4  4454361\n",
       "3      20220129_112037  20220129  2022  Saturday  heic  1782158\n",
       "4      20220129_112346  20220129  2022  Saturday   mp4  3901180\n",
       "...                ...       ...   ...       ...   ...      ...\n",
       "16711  20221230_063220  20221230  2022    Friday  heic  2829434\n",
       "16712  20221231_153807  20221231  2022  Saturday  heic  3848615\n",
       "16713  20221231_134317  20221231  2022  Saturday  heic  1922079\n",
       "16714  20221231_134224  20221231  2022  Saturday  heic  1801378\n",
       "16715  20221231_134306  20221231  2022  Saturday  heic  1501025\n",
       "\n",
       "[16716 rows x 6 columns]"
      ]
     },
     "execution_count": 50,
     "metadata": {},
     "output_type": "execute_result"
    }
   ],
   "source": [
    "df = pd.DataFrame(data = {'name':[], 'date':[], 'year':[], 'day':[], 'ext':[], 'size':[]})\n",
    "\n",
    "for f in pathlib.Path(directory).iterdir():\n",
    "    date = f.name[:8]\n",
    "    \n",
    "    # filter non-dates\n",
    "    if(not date.isnumeric() or int(date) > 20990000):\n",
    "        continue\n",
    "        \n",
    "    day = datetime.strptime(date, \"%Y%m%d\").strftime(\"%A\")\n",
    "    date = int(date)\n",
    "    year = int(date/10000)\n",
    "    ext = f.name.split('.')[1].lower()\n",
    "    name = f.name.split('.')[0]\n",
    "    size = int(f.stat().st_size)\n",
    "    \n",
    "    temp = pd.DataFrame([[name, int(date), int(year), day, ext, int(size)]],\n",
    "                   columns=['name', 'date', 'year', 'day', 'ext', 'size'])\n",
    "    df = pd.concat([df, temp], ignore_index=True)\n",
    "    \n",
    "    \n",
    "float_columns = df.select_dtypes(include=[float]).columns\n",
    "df[float_columns] = df[float_columns].astype(int)\n",
    "df"
   ]
  },
  {
   "cell_type": "code",
   "execution_count": 51,
   "id": "a46cef3e",
   "metadata": {},
   "outputs": [
    {
     "name": "stdout",
     "output_type": "stream",
     "text": [
      "<class 'pandas.core.frame.DataFrame'>\n",
      "RangeIndex: 16716 entries, 0 to 16715\n",
      "Data columns (total 6 columns):\n",
      " #   Column  Non-Null Count  Dtype \n",
      "---  ------  --------------  ----- \n",
      " 0   name    16716 non-null  object\n",
      " 1   date    16716 non-null  int64 \n",
      " 2   year    16716 non-null  int64 \n",
      " 3   day     16716 non-null  object\n",
      " 4   ext     16716 non-null  object\n",
      " 5   size    16716 non-null  int64 \n",
      "dtypes: int64(3), object(3)\n",
      "memory usage: 783.7+ KB\n"
     ]
    }
   ],
   "source": [
    "df.info()"
   ]
  },
  {
   "cell_type": "markdown",
   "id": "272caa7f",
   "metadata": {},
   "source": [
    "# Visualise photos taken every year"
   ]
  },
  {
   "cell_type": "code",
   "execution_count": 56,
   "id": "89773dc1",
   "metadata": {},
   "outputs": [
    {
     "name": "stdout",
     "output_type": "stream",
     "text": [
      "2022    5061\n",
      "2021    1902\n",
      "2020     694\n",
      "2019     872\n",
      "2018    3705\n",
      "2017    3046\n",
      "2016    1430\n",
      "2014       6\n",
      "Name: year, dtype: int64\n"
     ]
    },
    {
     "data": {
      "image/png": "[encoded data removed]",
      "text/plain": [
       "<Figure size 640x480 with 1 Axes>"
      ]
     },
     "metadata": {},
     "output_type": "display_data"
    }
   ],
   "source": [
    "year_counts = df['year'].value_counts()\n",
    "year_counts = year_counts.sort_index(ascending=False)\n",
    "plt.bar(year_counts.index, year_counts.values)\n",
    "print(year_counts)"
   ]
  },
  {
   "cell_type": "markdown",
   "id": "8730e64c",
   "metadata": {},
   "source": [
    "# Visualise photos taken on different days of the week"
   ]
  },
  {
   "cell_type": "code",
   "execution_count": 41,
   "id": "75c2afb8",
   "metadata": {},
   "outputs": [
    {
     "data": {
      "text/plain": [
       "<BarContainer object of 7 artists>"
      ]
     },
     "execution_count": 41,
     "metadata": {},
     "output_type": "execute_result"
    },
    {
     "data": {
      "image/png": "[encoded data removed]",
      "text/plain": [
       "<Figure size 640x480 with 1 Axes>"
      ]
     },
     "metadata": {},
     "output_type": "display_data"
    }
   ],
   "source": [
    "day_counts = df['day'].value_counts()\n",
    "\n",
    "desired_order = ['Monday', 'Tuesday', 'Wednesday', 'Thursday', 'Friday', 'Saturday', 'Sunday']\n",
    "\n",
    "# Reorder the day_counts based on the desired order\n",
    "day_counts = day_counts.reindex(desired_order)\n",
    "# Plotting the bar graph\n",
    "plt.bar(day_counts.index, day_counts.values)"
   ]
  },
  {
   "cell_type": "markdown",
   "id": "cdb0d6aa",
   "metadata": {},
   "source": [
    "# Visualise media types"
   ]
  },
  {
   "cell_type": "code",
   "execution_count": 57,
   "id": "334c0097",
   "metadata": {},
   "outputs": [
    {
     "name": "stdout",
     "output_type": "stream",
     "text": [
      "jpg      9579\n",
      "heic     2969\n",
      "png      1985\n",
      "mp4      1553\n",
      "mov       514\n",
      "jpeg       69\n",
      "36         28\n",
      "gif        11\n",
      "webp        5\n",
      "34          2\n",
      "06 pm       1\n",
      "Name: ext, dtype: int64\n"
     ]
    },
    {
     "data": {
      "image/png": "[encoded data removed]",
      "text/plain": [
       "<Figure size 640x480 with 1 Axes>"
      ]
     },
     "metadata": {},
     "output_type": "display_data"
    }
   ],
   "source": [
    "type_counts = df['ext'].value_counts()\n",
    "plt.bar(type_counts.index, type_counts.values)\n",
    "print(type_counts)"
   ]
  },
  {
   "cell_type": "code",
   "execution_count": 62,
   "id": "19b61fd2",
   "metadata": {},
   "outputs": [
    {
     "data": {
      "text/plain": [
       "68.634635985"
      ]
     },
     "execution_count": 62,
     "metadata": {},
     "output_type": "execute_result"
    }
   ],
   "source": [
    "df['size'].sum()/1000000000"
   ]
  },
  {
   "cell_type": "markdown",
   "id": "58a0689d",
   "metadata": {},
   "source": [
    "# Export data"
   ]
  },
  {
   "cell_type": "code",
   "execution_count": 64,
   "id": "297c8142",
   "metadata": {},
   "outputs": [],
   "source": [
    "df.to_csv('media_metadata.csv')"
   ]
  }
 ],
 "metadata": {
  "kernelspec": {
   "display_name": "Python 3 (ipykernel)",
   "language": "python",
   "name": "python3"
  },
  "language_info": {
   "codemirror_mode": {
    "name": "ipython",
    "version": 3
   },
   "file_extension": ".py",
   "mimetype": "text/x-python",
   "name": "python",
   "nbconvert_exporter": "python",
   "pygments_lexer": "ipython3",
   "version": "3.9.7"
  }
 },
 "nbformat": 4,
 "nbformat_minor": 5
}
